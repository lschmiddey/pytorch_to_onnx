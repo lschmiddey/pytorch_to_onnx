{
 "cells": [
  {
   "cell_type": "markdown",
   "metadata": {},
   "source": [
    "# Transform a PyTorch model to onnx"
   ]
  },
  {
   "cell_type": "markdown",
   "metadata": {},
   "source": [
    "In this tutorial, I want to show how easily you can transform a PyTorch model to the onnx format. But first of all, why would you want to do that? There are several reasons in my experience when this might come in handy for you:\r\n",
    "- your development area is different from your production area. In my experience, this is often the case. When we have huge data on which to do inference in batches, it is often not the best idea to first shift your data from one source towards your python-server, do the inference there and then put the data back again. onnx can make you use your Deep Learning models directly where your data is stored which is a huge benefit.\r\n",
    "- onnx runs on Java via their API, meaning you can train your model with Python but deploy it on Java. This makes a huge difference because you can then deploy your model for example directly in your cluster.\r\n",
    "- onnx supports all of the popular Deep Learning frameworks like PyTorch, TensorFlow or Caffe (and a lot more). That means in teams where some feel more confortable using TensorFlow and other feel more comfortable using PyTorch, the deployment process can still be the same.\r\n"
   ]
  },
  {
   "cell_type": "code",
   "execution_count": 40,
   "metadata": {},
   "outputs": [],
   "source": [
    "import pandas as pd\r\n",
    "import numpy as np\r\n",
    "import torch\r\n",
    "from torch import nn\r\n",
    "import torch.onnx\r\n",
    "\r\n",
    "import matplotlib.pyplot as plt"
   ]
  },
  {
   "cell_type": "markdown",
   "metadata": {},
   "source": [
    "In a previous tutorial I already showed you how powerful convolutional neural networks are when it comes to timeseries. I used the Italy Power demand dataset to do a classification task, which was to distinguish which day stems from. \r\n",
    "To show you how to deploy your model I will use this model trained on CPU with PyTorch and show you how then to save it as an onnx model. The way onnx works is that it first needs a \"sample\" of one example data point (tensor) with which we once do the inference part. So let's first load the data and just take the first example for which we want to make a prediction."
   ]
  },
  {
   "cell_type": "code",
   "execution_count": 2,
   "metadata": {},
   "outputs": [
    {
     "data": {
      "text/plain": "array([[-0.71051757, -1.1833204 , -1.3724416 , -1.5930829 , -1.4670021 ,\n        -1.3724416 , -1.0887599 ,  0.04596695,  0.92853223,  1.0861332 ,\n         1.2752543 ,  0.96005242,  0.61333034,  0.01444676, -0.6474772 ,\n        -0.26923494, -0.20619456,  0.61333034,  1.3698149 ,  1.4643754 ,\n         1.054613  ,  0.58181015,  0.1720477 , -0.26923494]])"
     },
     "execution_count": 2,
     "metadata": {},
     "output_type": "execute_result"
    }
   ],
   "source": [
    "df_train = pd.read_csv('Data/ItalyPowerDemand_TRAIN.txt', header=None,delim_whitespace=True)\r\n",
    "x_train = df_train.iloc[:, 1:].values.reshape(-1, 1, 24)\r\n",
    "x_train[0]"
   ]
  },
  {
   "cell_type": "markdown",
   "metadata": {},
   "source": [
    "Just as a reminder, this numpy array represents the power usage within 24 hours, and we tried to predict whether this day is from Oct to March (inclusive) or from April to September."
   ]
  },
  {
   "cell_type": "code",
   "execution_count": 5,
   "metadata": {},
   "outputs": [
    {
     "data": {
      "image/png": "[encoded data removed]",
      "text/plain": "<Figure size 432x288 with 1 Axes>"
     },
     "metadata": {
      "needs_background": "light"
     },
     "output_type": "display_data"
    }
   ],
   "source": [
    "df_train.iloc[0, 1:].plot.line(title=f'time series with class = {df_train.iloc[0, 0]}');"
   ]
  },
  {
   "cell_type": "markdown",
   "metadata": {},
   "source": [
    "We now transform this numpy array to a PyTorch tensor. The only thing we need to keep in mind from building our model is that the tensor has to follow a certain shape. Right now this shape looks like so:"
   ]
  },
  {
   "cell_type": "code",
   "execution_count": 6,
   "metadata": {},
   "outputs": [
    {
     "data": {
      "text/plain": "(1, 24)"
     },
     "execution_count": 6,
     "metadata": {},
     "output_type": "execute_result"
    }
   ],
   "source": [
    "x_train[0].shape"
   ]
  },
  {
   "cell_type": "markdown",
   "metadata": {},
   "source": [
    "However, the model expects the shape like so: [batch_size, no_of_variables, no_of_observations]. In our case, we want the batch_size to be 1, we only have 1 variable over which we want to predict (power usage) and we have 24 observations, one for each hour. Also, we need to make the tensor of type float in this case, because when training the model we used the float type as input."
   ]
  },
  {
   "cell_type": "code",
   "execution_count": 35,
   "metadata": {},
   "outputs": [],
   "source": [
    "x_tensor = torch.from_numpy(x_train[0].reshape(1, 1, 24)).float()"
   ]
  },
  {
   "cell_type": "markdown",
   "metadata": {},
   "source": [
    "Now we need to reload our model. Best practice for saving models is to only save the state_dict(). This however means when realoding the model, we first need to define the \"skeleton\" of the model if you will, which will then be updated by the corresponding weights and biases from the saved state_dict(). Again, if you haven't read the tutorial on how to build the model, I highly recommend to read that again."
   ]
  },
  {
   "cell_type": "code",
   "execution_count": 36,
   "metadata": {},
   "outputs": [],
   "source": [
    "class CostumConv1d(nn.Module):\r\n",
    "    \"\"\"Implementes a 1-d convolution with 'batteries included'.\r\n",
    "    \r\n",
    "    The module adds (optionally) activation function and dropout layers right after\r\n",
    "    a separable convolution layer.\r\n",
    "    \"\"\"\r\n",
    "    def __init__(self, ni, no, kernel, stride, pad, drop=None,\r\n",
    "                 activ=lambda: nn.ReLU(inplace=True)):\r\n",
    "    \r\n",
    "        super().__init__()\r\n",
    "        assert drop is None or (0.0 < drop < 1.0)\r\n",
    "        layers = [nn.Conv1d(ni, no, kernel, stride, pad)]\r\n",
    "        if activ:\r\n",
    "            layers.append(activ())\r\n",
    "        if drop is not None:\r\n",
    "            layers.append(nn.Dropout(drop))\r\n",
    "        self.layers = nn.Sequential(*layers)\r\n",
    "        \r\n",
    "    def forward(self, x): \r\n",
    "        return self.layers(x)\r\n",
    "    \r\n",
    "class Flatten(nn.Module):\r\n",
    "    \"\"\"Converts N-dimensional tensor into 'flat' one.\"\"\"\r\n",
    "    def __init__(self, keep_batch_dim=True):\r\n",
    "            super().__init__()\r\n",
    "            self.keep_batch_dim = keep_batch_dim\r\n",
    "\r\n",
    "    def forward(self, x):\r\n",
    "        if self.keep_batch_dim:\r\n",
    "            return x.view(x.size(0), -1)\r\n",
    "        return x.view(-1)\r\n",
    "\r\n",
    "class Classifier(nn.Module):\r\n",
    "    def __init__(self, raw_ni, no, drop=.5):\r\n",
    "        super().__init__()\r\n",
    "        \r\n",
    "        self.raw = nn.Sequential(\r\n",
    "            CostumConv1d(raw_ni,  128, 23, 1, 0, drop=drop),\r\n",
    "            nn.MaxPool1d(2, stride=2),\r\n",
    "            Flatten(),\r\n",
    "            nn.Dropout(drop), nn.Linear(128, 64), nn.ReLU(inplace=True),\r\n",
    "            nn.Dropout(drop), nn.Linear( 64, 64), nn.ReLU(inplace=True))\r\n",
    "        \r\n",
    "        self.out = nn.Sequential(\r\n",
    "            nn.Linear(64, 64), nn.ReLU(inplace=True), nn.Linear(64, no))\r\n",
    "        \r\n",
    "    def forward(self, t_raw):\r\n",
    "        raw_out = self.raw(t_raw)\r\n",
    "        out = self.out(raw_out)\r\n",
    "        return out"
   ]
  },
  {
   "cell_type": "markdown",
   "metadata": {},
   "source": [
    "Remember, we only have one variable with which we predict one of two classes (either 0 or 1)."
   ]
  },
  {
   "cell_type": "code",
   "execution_count": 37,
   "metadata": {},
   "outputs": [
    {
     "data": {
      "text/plain": "<All keys matched successfully>"
     },
     "execution_count": 37,
     "metadata": {},
     "output_type": "execute_result"
    }
   ],
   "source": [
    "device = torch.device('cpu')\r\n",
    "no_variables = 1\r\n",
    "num_classes = 2\r\n",
    "model = Classifier(no_variables, num_classes).to(device)\r\n",
    "model.load_state_dict(torch.load('best.pth'))"
   ]
  },
  {
   "cell_type": "markdown",
   "metadata": {},
   "source": [
    "We're already almost done. Last thing missing is the inference part. To do so, we first have to put the mode in evaluation mode (otherwise it expects the target variable as an input to the model as well) and we also for faster inference later on tell the model not to calculate the gradients each time."
   ]
  },
  {
   "cell_type": "code",
   "execution_count": 34,
   "metadata": {},
   "outputs": [],
   "source": [
    "model.eval()\r\n",
    "with torch.no_grad():\r\n",
    "    output = model(x_tensor.to(device))"
   ]
  },
  {
   "cell_type": "code",
   "execution_count": 38,
   "metadata": {},
   "outputs": [
    {
     "data": {
      "text/plain": "tensor([[0.0232, 0.0089]])"
     },
     "execution_count": 38,
     "metadata": {},
     "output_type": "execute_result"
    }
   ],
   "source": [
    "output"
   ]
  },
  {
   "cell_type": "markdown",
   "metadata": {},
   "source": [
    "Now we're ready to save our model as a onnx model. Keep in mind that any changes done to the output (like applying a sigmoid function for example) will not be saved in the onnx model. Later operations then need to be done where you apply the model, for example when using it in a Java set up you need to use the Java functionality for sigmoid."
   ]
  },
  {
   "cell_type": "code",
   "execution_count": 41,
   "metadata": {},
   "outputs": [
    {
     "name": "stderr",
     "output_type": "stream",
     "text": [
      "d:\\PythonProjects\\python_to_onnx\\venv_onnx\\lib\\site-packages\\torch\\nn\\functional.py:652: UserWarning: Named tensors and all their associated APIs are an experimental feature and subject to change. Please do not use them for anything important until they are released as stable. (Triggered internally at  ..\\c10/core/TensorImpl.h:1156.)\n",
      "  return torch.max_pool1d(input, kernel_size, stride, padding, dilation, ceil_mode)\n"
     ]
    }
   ],
   "source": [
    "torch.onnx.export(model,\r\n",
    "                  x_tensor,\r\n",
    "                  'onnx_model.onnx',\r\n",
    "                  export_params=True,\r\n",
    "                  opset_version=10)"
   ]
  },
  {
   "cell_type": "markdown",
   "metadata": {},
   "source": [
    "The UserWarning we're getting here is outdated, with pytorch 1.9 the version is stable and you can savely use this model. (this warning should be removed with version 1.9.1, current date: 2021-08-28)"
   ]
  },
  {
   "cell_type": "markdown",
   "metadata": {},
   "source": [
    "And that's it! We now have saved our model with onnx, ready to be deployed on other frameworks directly. In the next tutorial, I want to show you how to use this onnx model and make it run on Java.\r\n",
    "\r\n",
    "Lasse"
   ]
  }
 ],
 "metadata": {
  "kernelspec": {
   "display_name": "Python 3.9.2  ('venv_onnx': venv)",
   "name": "pythonjvsc74a57bd0f916aa3c9e6ea6d3070eeee14f454fe560278e43f6d4bc4ce8d2dc49091b4c9f"
  },
  "language_info": {
   "codemirror_mode": {
    "name": "ipython",
    "version": 3
   },
   "file_extension": ".py",
   "mimetype": "text/x-python",
   "name": "python",
   "nbconvert_exporter": "python",
   "pygments_lexer": "ipython3",
   "version": "3.9.2"
  },
  "metadata": {
   "interpreter": {
    "hash": "f916aa3c9e6ea6d3070eeee14f454fe560278e43f6d4bc4ce8d2dc49091b4c9f"
   }
  },
  "orig_nbformat": 2
 },
 "nbformat": 4,
 "nbformat_minor": 2
}